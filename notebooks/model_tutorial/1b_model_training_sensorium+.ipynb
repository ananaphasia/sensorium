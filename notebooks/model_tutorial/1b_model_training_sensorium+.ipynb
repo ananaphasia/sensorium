{
 "cells": [
  {
   "cell_type": "markdown",
   "metadata": {
    "pycharm": {
     "name": "#%% md\n"
    }
   },
   "source": [
    "# How to train the Baseline Models for the SENSORIUM+ track"
   ]
  },
  {
   "cell_type": "markdown",
   "metadata": {
    "pycharm": {
     "name": "#%% md\n"
    }
   },
   "source": [
    "### This notebook will show how to\n",
    "- instantiate dataloader for the Sensorium+ track\n",
    "- instantiate pytorch model\n",
    "- instantiate a trainer function\n",
    "- train two baselines for this competition track\n",
    "- save the model weights (the model weights can already be found in './model_checkpoints/pretrained/')"
   ]
  },
  {
   "cell_type": "markdown",
   "metadata": {
    "pycharm": {
     "name": "#%% md\n"
    }
   },
   "source": [
    "### Imports"
   ]
  },
  {
   "cell_type": "code",
   "execution_count": 16,
   "metadata": {
    "pycharm": {
     "name": "#%%\n"
    }
   },
   "outputs": [],
   "source": [
    "from nnfabrik.builder import get_data, get_model, get_trainer\n",
    "import torch\n",
    "\n",
    "\n",
    "\n",
    "import numpy as np\n",
    "import pandas as pd\n",
    "\n",
    "\n",
    "\n",
    "import matplotlib.pyplot as plt\n",
    "import seaborn as sns\n",
    "\n",
    "\n",
    "\n",
    "import warnings\n",
    "\n",
    "\n",
    "\n",
    "warnings.filterwarnings('ignore')"
   ]
  },
  {
   "cell_type": "markdown",
   "metadata": {
    "pycharm": {
     "name": "#%% md\n"
    }
   },
   "source": [
    "### Instantiate DataLoader for Sensorium+"
   ]
  },
  {
   "cell_type": "markdown",
   "metadata": {
    "collapsed": false,
    "pycharm": {
     "name": "#%% md\n"
    }
   },
   "source": [
    "The only difference to the Sensorium track is that here, we include the behavioral variables and the eye position,\n",
    "by setting include_behavior=True, and include_eye_position=True.\n",
    "this will append the behavioral variables to the input images, and the eye position will be passed to\n",
    "the shifter network of the model.\n"
   ]
  },
  {
   "cell_type": "code",
   "execution_count": 17,
   "metadata": {},
   "outputs": [],
   "source": [
    "import os\n",
    "current_path = os.getcwd()\n",
    "# Identify if path has 'sensorium' as a folder in it\n",
    "if 'sensorium' in current_path:\n",
    "    # If so, set the path to the root of the repo\n",
    "    current_path = current_path.split('sensorium')[0] + 'sensorium'\n",
    "else:\n",
    "    raise FileNotFoundError(\n",
    "        'This needs to be run from within the sensorium folder')\n",
    "os.chdir(current_path)"
   ]
  },
  {
   "cell_type": "code",
   "execution_count": 18,
   "metadata": {
    "collapsed": false,
    "pycharm": {
     "name": "#%%\n"
    }
   },
   "outputs": [],
   "source": [
    "# loading the SENSORIUM+ dataset\n",
    "filenames = [\n",
    "    # 'notebooks/data/static23964-4-22-GrayImageNet-94c6ff995dac583098847cfecd43e7b6.zip',\n",
    "    'notebooks/data/IM_prezipped/LPE11086/2023_12_16/'\n",
    "]\n",
    "\n",
    "\n",
    "dataset_fn = 'sensorium.datasets.static_loaders'\n",
    "dataset_config = {'paths': filenames,\n",
    "                  'normalize': True,\n",
    "                  'include_behavior': True,\n",
    "                  'include_eye_position': True,\n",
    "                  'batch_size': 128,\n",
    "                  'scale': .25,\n",
    "                  }\n",
    "\n",
    "dataloaders = get_data(dataset_fn, dataset_config)"
   ]
  },
  {
   "cell_type": "markdown",
   "metadata": {
    "collapsed": false,
    "pycharm": {
     "name": "#%% md\n"
    }
   },
   "source": [
    "# Instantiate State of the Art Model (SOTA)"
   ]
  },
  {
   "cell_type": "markdown",
   "metadata": {
    "collapsed": false,
    "pycharm": {
     "name": "#%% md\n"
    }
   },
   "source": [
    "Because the behavioral variables are available, we instantiate the Shifter network\n",
    "by setting Shifter=True in the model configuration."
   ]
  },
  {
   "cell_type": "code",
   "execution_count": 19,
   "metadata": {
    "collapsed": false,
    "pycharm": {
     "name": "#%%\n"
    }
   },
   "outputs": [],
   "source": [
    "model_fn = 'sensorium.models.stacked_core_full_gauss_readout'\n",
    "model_config = {'pad_input': False,\n",
    "                'stack': -1,\n",
    "                'layers': 4,\n",
    "                'input_kern': 9,\n",
    "                'gamma_input': 6.3831,\n",
    "                'gamma_readout': 0.0076,\n",
    "                'hidden_kern': 7,\n",
    "                'hidden_channels': 64,\n",
    "                'depth_separable': True,\n",
    "                'grid_mean_predictor': {'type': 'cortex',\n",
    "                                        'input_dimensions': 2,\n",
    "                                        'hidden_layers': 1,\n",
    "                                        'hidden_features': 30,\n",
    "                                        'final_tanh': True},\n",
    "                'init_sigma': 0.1,\n",
    "                'init_mu_range': 0.3,\n",
    "                'gauss_type': 'full',\n",
    "                'shifter': True,\n",
    "                }\n",
    "\n",
    "model = get_model(model_fn=model_fn,\n",
    "                  model_config=model_config,\n",
    "                  dataloaders=dataloaders,\n",
    "                  seed=42,)"
   ]
  },
  {
   "cell_type": "markdown",
   "metadata": {},
   "source": [
    "Because the behavioral variables are available, we instantiate the Shifter network\n",
    "by setting Shifter=True in the model configuration."
   ]
  },
  {
   "cell_type": "code",
   "execution_count": 20,
   "metadata": {
    "pycharm": {
     "name": "#%%\n"
    }
   },
   "outputs": [],
   "source": [
    "model_fn = 'sensorium.models.stacked_core_full_gauss_readout'\n",
    "model_config = {'pad_input': False,\n",
    "                'stack': -1,\n",
    "                'layers': 4,\n",
    "                'input_kern': 9,\n",
    "                'gamma_input': 6.3831,\n",
    "                'gamma_readout': 0.0076,\n",
    "                'hidden_kern': 7,\n",
    "                'hidden_channels': 64,\n",
    "                'depth_separable': True,\n",
    "                'grid_mean_predictor': {'type': 'cortex',\n",
    "                                        'input_dimensions': 2,\n",
    "                                        'hidden_layers': 1,\n",
    "                                        'hidden_features': 30,\n",
    "                                        'final_tanh': True},\n",
    "                'init_sigma': 0.1,\n",
    "                'init_mu_range': 0.3,\n",
    "                'gauss_type': 'full',\n",
    "                'shifter': True,\n",
    "                }\n",
    "\n",
    "model = get_model(model_fn=model_fn,\n",
    "                  model_config=model_config,\n",
    "                  dataloaders=dataloaders,\n",
    "                  seed=42,)"
   ]
  },
  {
   "cell_type": "markdown",
   "metadata": {
    "pycharm": {
     "name": "#%% md\n"
    }
   },
   "source": [
    "## Configure Trainer"
   ]
  },
  {
   "cell_type": "code",
   "execution_count": 21,
   "metadata": {
    "pycharm": {
     "name": "#%%\n"
    }
   },
   "outputs": [],
   "source": [
    "trainer_fn = \"sensorium.training.standard_trainer\"\n",
    "\n",
    "trainer_config = {'max_iter': 200,\n",
    "                  'verbose': False,\n",
    "                  'lr_decay_steps': 4,\n",
    "                  'avg_loss': False,\n",
    "                  'lr_init': 0.009,\n",
    "                  }\n",
    "\n",
    "trainer = get_trainer(trainer_fn=trainer_fn,\n",
    "                      trainer_config=trainer_config)"
   ]
  },
  {
   "cell_type": "markdown",
   "metadata": {
    "pycharm": {
     "name": "#%% md\n"
    }
   },
   "source": [
    "# Run model training"
   ]
  },
  {
   "cell_type": "code",
   "execution_count": 22,
   "metadata": {
    "pycharm": {
     "name": "#%%\n"
    }
   },
   "outputs": [
    {
     "name": "stderr",
     "output_type": "stream",
     "text": [
      "Epoch 1: 100%|██████████| 33/33 [01:52<00:00,  3.40s/it]\n",
      "Epoch 2: 100%|██████████| 33/33 [00:03<00:00,  9.24it/s]\n",
      "Epoch 3: 100%|██████████| 33/33 [00:04<00:00,  8.10it/s]\n",
      "Epoch 4: 100%|██████████| 33/33 [00:04<00:00,  7.69it/s]\n",
      "Epoch 5: 100%|██████████| 33/33 [00:03<00:00,  8.57it/s]\n",
      "Epoch 6: 100%|██████████| 33/33 [00:03<00:00,  8.32it/s]\n",
      "Epoch 7: 100%|██████████| 33/33 [00:03<00:00,  8.71it/s]\n",
      "Epoch 8: 100%|██████████| 33/33 [00:03<00:00,  8.50it/s]\n",
      "Epoch 9: 100%|██████████| 33/33 [00:04<00:00,  7.92it/s]\n",
      "Epoch 10: 100%|██████████| 33/33 [00:03<00:00,  8.85it/s]\n",
      "Epoch 11: 100%|██████████| 33/33 [00:03<00:00,  9.06it/s]\n",
      "Epoch 12: 100%|██████████| 33/33 [00:03<00:00,  8.52it/s]\n",
      "Epoch 13: 100%|██████████| 33/33 [00:03<00:00,  8.39it/s]\n",
      "Epoch 14: 100%|██████████| 33/33 [00:03<00:00,  8.43it/s]\n",
      "Epoch 15: 100%|██████████| 33/33 [00:03<00:00,  8.78it/s]\n",
      "Epoch 16: 100%|██████████| 33/33 [00:03<00:00,  8.46it/s]\n",
      "Epoch 17: 100%|██████████| 33/33 [00:07<00:00,  4.44it/s]\n",
      "Epoch 18: 100%|██████████| 33/33 [00:05<00:00,  6.04it/s]\n",
      "Epoch 19: 100%|██████████| 33/33 [00:03<00:00,  9.29it/s]\n",
      "Epoch 20: 100%|██████████| 33/33 [00:03<00:00,  9.08it/s]\n",
      "Epoch 21: 100%|██████████| 33/33 [00:03<00:00,  9.48it/s]\n",
      "Epoch 22: 100%|██████████| 33/33 [00:03<00:00,  9.30it/s]\n",
      "Epoch 23: 100%|██████████| 33/33 [00:03<00:00,  9.14it/s]\n",
      "Epoch 24: 100%|██████████| 33/33 [00:03<00:00,  9.13it/s]\n",
      "Epoch 25: 100%|██████████| 33/33 [00:03<00:00,  9.12it/s]\n",
      "Epoch 26: 100%|██████████| 33/33 [00:03<00:00,  9.07it/s]\n",
      "Epoch 27: 100%|██████████| 33/33 [00:03<00:00,  8.41it/s]\n",
      "Epoch 28: 100%|██████████| 33/33 [00:03<00:00,  8.50it/s]\n",
      "Epoch 29: 100%|██████████| 33/33 [00:03<00:00,  8.51it/s]\n",
      "Epoch 30: 100%|██████████| 33/33 [00:03<00:00,  8.76it/s]\n",
      "Epoch 31: 100%|██████████| 33/33 [00:03<00:00,  8.97it/s]\n",
      "Epoch 32: 100%|██████████| 33/33 [00:03<00:00,  8.97it/s]\n",
      "Epoch 33: 100%|██████████| 33/33 [00:03<00:00,  8.69it/s]\n",
      "Epoch 34: 100%|██████████| 33/33 [00:03<00:00,  8.34it/s]\n",
      "Epoch 35: 100%|██████████| 33/33 [00:03<00:00,  8.41it/s]\n",
      "Epoch 36: 100%|██████████| 33/33 [00:03<00:00,  8.48it/s]\n",
      "Epoch 37: 100%|██████████| 33/33 [00:03<00:00,  8.45it/s]\n",
      "Epoch 38: 100%|██████████| 33/33 [00:03<00:00,  8.65it/s]\n",
      "Epoch 39: 100%|██████████| 33/33 [00:03<00:00,  8.47it/s]\n",
      "Epoch 40: 100%|██████████| 33/33 [00:03<00:00,  8.87it/s]\n",
      "Epoch 41: 100%|██████████| 33/33 [00:03<00:00,  8.66it/s]\n",
      "Epoch 42: 100%|██████████| 33/33 [00:03<00:00,  8.72it/s]\n",
      "Epoch 43: 100%|██████████| 33/33 [00:03<00:00,  8.89it/s]\n",
      "Epoch 44: 100%|██████████| 33/33 [00:03<00:00,  8.62it/s]\n",
      "Epoch 45: 100%|██████████| 33/33 [00:03<00:00,  9.11it/s]\n",
      "Epoch 46: 100%|██████████| 33/33 [00:03<00:00,  8.75it/s]\n",
      "Epoch 47: 100%|██████████| 33/33 [00:03<00:00,  9.01it/s]\n",
      "Epoch 48: 100%|██████████| 33/33 [00:03<00:00,  8.80it/s]\n",
      "Epoch 49: 100%|██████████| 33/33 [00:03<00:00,  8.86it/s]\n",
      "Epoch 50: 100%|██████████| 33/33 [00:03<00:00,  8.91it/s]\n",
      "Epoch 51: 100%|██████████| 33/33 [00:03<00:00,  8.79it/s]\n",
      "Epoch 52: 100%|██████████| 33/33 [00:03<00:00,  8.63it/s]\n",
      "Epoch 53: 100%|██████████| 33/33 [00:03<00:00,  8.67it/s]\n",
      "Epoch 54: 100%|██████████| 33/33 [00:03<00:00,  8.69it/s]\n",
      "Epoch 55: 100%|██████████| 33/33 [00:03<00:00,  8.64it/s]\n",
      "Epoch 56: 100%|██████████| 33/33 [00:03<00:00,  8.79it/s]\n",
      "Epoch 57: 100%|██████████| 33/33 [00:03<00:00,  8.51it/s]\n",
      "Epoch 58: 100%|██████████| 33/33 [00:03<00:00,  8.67it/s]\n",
      "Epoch 59: 100%|██████████| 33/33 [00:03<00:00,  8.84it/s]\n",
      "Epoch 60: 100%|██████████| 33/33 [00:03<00:00,  8.34it/s]\n",
      "Epoch 61: 100%|██████████| 33/33 [00:02<00:00, 13.95it/s]\n",
      "Epoch 62: 100%|██████████| 33/33 [00:04<00:00,  7.65it/s]\n",
      "Epoch 63: 100%|██████████| 33/33 [00:06<00:00,  5.30it/s]\n",
      "Epoch 64: 100%|██████████| 33/33 [00:06<00:00,  5.12it/s]\n",
      "Epoch 65: 100%|██████████| 33/33 [00:06<00:00,  5.16it/s]\n",
      "Epoch 66: 100%|██████████| 33/33 [00:06<00:00,  5.48it/s]\n",
      "Epoch 67: 100%|██████████| 33/33 [00:06<00:00,  5.10it/s]\n",
      "Epoch 68: 100%|██████████| 33/33 [00:06<00:00,  5.29it/s]\n",
      "Epoch 69: 100%|██████████| 33/33 [00:06<00:00,  5.32it/s]\n",
      "Epoch 70: 100%|██████████| 33/33 [00:06<00:00,  5.30it/s]\n",
      "Epoch 71: 100%|██████████| 33/33 [00:06<00:00,  5.34it/s]\n",
      "Epoch 72: 100%|██████████| 33/33 [00:06<00:00,  5.09it/s]\n",
      "Epoch 73: 100%|██████████| 33/33 [00:06<00:00,  5.10it/s]\n",
      "Epoch 74: 100%|██████████| 33/33 [00:06<00:00,  4.97it/s]\n",
      "Epoch 75: 100%|██████████| 33/33 [00:06<00:00,  4.97it/s]\n",
      "Epoch 76: 100%|██████████| 33/33 [00:06<00:00,  5.29it/s]\n",
      "Epoch 77: 100%|██████████| 33/33 [00:06<00:00,  5.32it/s]\n",
      "Epoch 78: 100%|██████████| 33/33 [00:06<00:00,  5.38it/s]\n",
      "Epoch 79: 100%|██████████| 33/33 [00:06<00:00,  5.30it/s]\n",
      "Epoch 80: 100%|██████████| 33/33 [00:06<00:00,  5.22it/s]\n",
      "Epoch 81: 100%|██████████| 33/33 [00:06<00:00,  5.27it/s]\n",
      "Epoch 82: 100%|██████████| 33/33 [00:06<00:00,  5.36it/s]\n",
      "Epoch 83: 100%|██████████| 33/33 [00:06<00:00,  5.12it/s]\n",
      "Epoch 84: 100%|██████████| 33/33 [00:06<00:00,  5.00it/s]\n",
      "Epoch 85: 100%|██████████| 33/33 [00:06<00:00,  4.93it/s]\n",
      "Epoch 86: 100%|██████████| 33/33 [00:06<00:00,  5.41it/s]\n",
      "Epoch 87: 100%|██████████| 33/33 [00:06<00:00,  5.28it/s]\n",
      "Epoch 88: 100%|██████████| 33/33 [00:06<00:00,  5.19it/s]\n"
     ]
    }
   ],
   "source": [
    "validation_score, trainer_output, state_dict = trainer(\n",
    "    model, dataloaders, seed=42)"
   ]
  },
  {
   "cell_type": "code",
   "execution_count": 23,
   "metadata": {},
   "outputs": [
    {
     "data": {
      "text/plain": [
       "0.24911124"
      ]
     },
     "execution_count": 23,
     "metadata": {},
     "output_type": "execute_result"
    }
   ],
   "source": [
    "validation_score"
   ]
  },
  {
   "cell_type": "markdown",
   "metadata": {
    "pycharm": {
     "name": "#%% md\n"
    }
   },
   "source": [
    "## Save model checkpoints"
   ]
  },
  {
   "cell_type": "code",
   "execution_count": 24,
   "metadata": {
    "pycharm": {
     "name": "#%%\n"
    }
   },
   "outputs": [],
   "source": [
    "# torch.save(model.state_dict(), './model_checkpoints/sensorium_p_sota_model.pth')\n",
    "torch.save(model.state_dict(),\n",
    "           'notebooks/model_tutorial/model_checkpoints/IM_p_sota_model.pth')"
   ]
  },
  {
   "cell_type": "markdown",
   "metadata": {
    "pycharm": {
     "name": "#%% md\n"
    }
   },
   "source": [
    "## Load Model Checkpoints"
   ]
  },
  {
   "cell_type": "code",
   "execution_count": 25,
   "metadata": {
    "pycharm": {
     "name": "#%%\n"
    }
   },
   "outputs": [
    {
     "data": {
      "text/plain": [
       "<All keys matched successfully>"
      ]
     },
     "execution_count": 25,
     "metadata": {},
     "output_type": "execute_result"
    }
   ],
   "source": [
    "# model.load_state_dict(torch.load(\"./model_checkpoints/pretrained/sensorium_p_sota_model.pth\"));\n",
    "model.load_state_dict(torch.load(\n",
    "    \"notebooks/model_tutorial/model_checkpoints/IM_p_sota_model.pth\"))"
   ]
  },
  {
   "cell_type": "markdown",
   "metadata": {
    "pycharm": {
     "name": "#%% md\n"
    }
   },
   "source": [
    "---"
   ]
  },
  {
   "cell_type": "markdown",
   "metadata": {
    "pycharm": {
     "name": "#%% md\n"
    }
   },
   "source": [
    "# Train a simple LN model"
   ]
  },
  {
   "cell_type": "code",
   "execution_count": 26,
   "metadata": {
    "pycharm": {
     "name": "#%%\n"
    }
   },
   "outputs": [],
   "source": [
    "# this will remove all nonlinearities from the CNN, and creates essentially a ln model: linear core + readout, with a subsequent non-linearity\n",
    "\n",
    "model_fn = 'sensorium.models.stacked_core_full_gauss_readout'\n",
    "model_config = {'pad_input': False,\n",
    "                'stack': -1,\n",
    "                'layers': 3,\n",
    "                'input_kern': 9,\n",
    "                'gamma_input': 6.3831,\n",
    "                'gamma_readout': 0.0076,\n",
    "                'hidden_kern': 7,\n",
    "                'hidden_channels': 64,\n",
    "                'grid_mean_predictor': {'type': 'cortex',\n",
    "                                        'input_dimensions': 2,\n",
    "                                        'hidden_layers': 1,\n",
    "                                        'hidden_features': 30,\n",
    "                                        'final_tanh': True},\n",
    "                'depth_separable': True,\n",
    "                'init_sigma': 0.1,\n",
    "                'init_mu_range': 0.3,\n",
    "                'gauss_type': 'full',\n",
    "                'linear': True,\n",
    "                'shifter': True,\n",
    "                }\n",
    "model = get_model(model_fn=model_fn,\n",
    "                  model_config=model_config,\n",
    "                  dataloaders=dataloaders,\n",
    "                  seed=42,)"
   ]
  },
  {
   "cell_type": "code",
   "execution_count": 27,
   "metadata": {
    "pycharm": {
     "is_executing": true,
     "name": "#%%\n"
    }
   },
   "outputs": [
    {
     "name": "stderr",
     "output_type": "stream",
     "text": [
      "Epoch 1: 100%|██████████| 33/33 [00:07<00:00,  4.57it/s]\n",
      "Epoch 2: 100%|██████████| 33/33 [00:07<00:00,  4.71it/s]\n",
      "Epoch 3: 100%|██████████| 33/33 [00:06<00:00,  5.22it/s]\n",
      "Epoch 4: 100%|██████████| 33/33 [00:05<00:00,  5.67it/s]\n",
      "Epoch 5: 100%|██████████| 33/33 [00:06<00:00,  5.17it/s]\n",
      "Epoch 6: 100%|██████████| 33/33 [00:06<00:00,  5.25it/s]\n",
      "Epoch 7: 100%|██████████| 33/33 [00:06<00:00,  5.19it/s]\n",
      "Epoch 8: 100%|██████████| 33/33 [00:06<00:00,  5.23it/s]\n",
      "Epoch 9: 100%|██████████| 33/33 [00:06<00:00,  5.42it/s]\n",
      "Epoch 10: 100%|██████████| 33/33 [00:06<00:00,  5.49it/s]\n",
      "Epoch 11: 100%|██████████| 33/33 [00:06<00:00,  5.19it/s]\n",
      "Epoch 12: 100%|██████████| 33/33 [00:06<00:00,  5.17it/s]\n",
      "Epoch 13: 100%|██████████| 33/33 [00:02<00:00, 13.02it/s]\n",
      "Epoch 14: 100%|██████████| 33/33 [00:02<00:00, 11.77it/s]\n",
      "Epoch 15: 100%|██████████| 33/33 [00:03<00:00, 10.15it/s]\n",
      "Epoch 16: 100%|██████████| 33/33 [00:02<00:00, 11.21it/s]\n",
      "Epoch 17: 100%|██████████| 33/33 [00:03<00:00, 10.74it/s]\n",
      "Epoch 18: 100%|██████████| 33/33 [00:03<00:00,  9.11it/s]\n",
      "Epoch 19: 100%|██████████| 33/33 [00:04<00:00,  8.12it/s]\n",
      "Epoch 20: 100%|██████████| 33/33 [00:03<00:00,  8.53it/s]\n",
      "Epoch 21: 100%|██████████| 33/33 [00:03<00:00,  8.32it/s]\n",
      "Epoch 22: 100%|██████████| 33/33 [00:03<00:00,  8.37it/s]\n",
      "Epoch 23: 100%|██████████| 33/33 [00:03<00:00,  8.52it/s]\n",
      "Epoch 24: 100%|██████████| 33/33 [00:03<00:00,  8.57it/s]\n",
      "Epoch 25: 100%|██████████| 33/33 [00:03<00:00,  8.35it/s]\n",
      "Epoch 26: 100%|██████████| 33/33 [00:03<00:00,  8.38it/s]\n",
      "Epoch 27: 100%|██████████| 33/33 [00:03<00:00,  8.60it/s]\n",
      "Epoch 28: 100%|██████████| 33/33 [00:04<00:00,  8.05it/s]\n",
      "Epoch 29: 100%|██████████| 33/33 [00:03<00:00,  8.84it/s]\n",
      "Epoch 30: 100%|██████████| 33/33 [00:03<00:00,  8.57it/s]\n",
      "Epoch 31: 100%|██████████| 33/33 [00:03<00:00,  8.44it/s]\n",
      "Epoch 32: 100%|██████████| 33/33 [00:03<00:00,  8.31it/s]\n",
      "Epoch 33: 100%|██████████| 33/33 [00:03<00:00,  8.42it/s]\n",
      "Epoch 34: 100%|██████████| 33/33 [00:03<00:00,  8.63it/s]\n",
      "Epoch 35: 100%|██████████| 33/33 [00:03<00:00,  8.58it/s]\n",
      "Epoch 36: 100%|██████████| 33/33 [00:03<00:00,  8.51it/s]\n",
      "Epoch 37: 100%|██████████| 33/33 [00:03<00:00,  8.33it/s]\n",
      "Epoch 38: 100%|██████████| 33/33 [00:03<00:00,  8.40it/s]\n",
      "Epoch 39: 100%|██████████| 33/33 [00:03<00:00,  8.36it/s]\n",
      "Epoch 40: 100%|██████████| 33/33 [00:03<00:00,  8.65it/s]\n",
      "Epoch 41: 100%|██████████| 33/33 [00:03<00:00,  8.38it/s]\n",
      "Epoch 42: 100%|██████████| 33/33 [00:03<00:00,  8.82it/s]\n",
      "Epoch 43: 100%|██████████| 33/33 [00:03<00:00,  8.58it/s]\n",
      "Epoch 44: 100%|██████████| 33/33 [00:04<00:00,  7.80it/s]\n",
      "Epoch 45: 100%|██████████| 33/33 [00:03<00:00,  8.43it/s]\n",
      "Epoch 46: 100%|██████████| 33/33 [00:04<00:00,  7.97it/s]\n",
      "Epoch 47: 100%|██████████| 33/33 [00:03<00:00,  8.64it/s]\n",
      "Epoch 48: 100%|██████████| 33/33 [00:03<00:00,  8.42it/s]\n",
      "Epoch 49: 100%|██████████| 33/33 [00:03<00:00,  8.78it/s]\n",
      "Epoch 50: 100%|██████████| 33/33 [00:04<00:00,  8.02it/s]\n",
      "Epoch 51: 100%|██████████| 33/33 [00:02<00:00, 12.15it/s]\n",
      "Epoch 52: 100%|██████████| 33/33 [00:05<00:00,  6.00it/s]\n",
      "Epoch 53: 100%|██████████| 33/33 [00:06<00:00,  5.18it/s]\n",
      "Epoch 54: 100%|██████████| 33/33 [00:11<00:00,  2.76it/s]\n",
      "Epoch 55: 100%|██████████| 33/33 [00:13<00:00,  2.52it/s]\n",
      "Epoch 56: 100%|██████████| 33/33 [00:12<00:00,  2.68it/s]\n",
      "Epoch 57: 100%|██████████| 33/33 [00:06<00:00,  4.74it/s]\n",
      "Epoch 58: 100%|██████████| 33/33 [00:06<00:00,  5.14it/s]\n",
      "Epoch 59: 100%|██████████| 33/33 [00:06<00:00,  5.17it/s]\n",
      "Epoch 60: 100%|██████████| 33/33 [00:06<00:00,  4.97it/s]\n",
      "Epoch 61: 100%|██████████| 33/33 [00:06<00:00,  5.01it/s]\n",
      "Epoch 62: 100%|██████████| 33/33 [00:05<00:00,  6.57it/s]\n",
      "Epoch 63: 100%|██████████| 33/33 [00:05<00:00,  5.52it/s]\n",
      "Epoch 64: 100%|██████████| 33/33 [00:05<00:00,  6.17it/s]\n",
      "Epoch 65: 100%|██████████| 33/33 [00:05<00:00,  5.52it/s]\n",
      "Epoch 66: 100%|██████████| 33/33 [00:06<00:00,  5.25it/s]\n",
      "Epoch 67: 100%|██████████| 33/33 [00:06<00:00,  5.19it/s]\n",
      "Epoch 68: 100%|██████████| 33/33 [00:06<00:00,  4.83it/s]\n",
      "Epoch 69: 100%|██████████| 33/33 [00:04<00:00,  6.61it/s]\n",
      "Epoch 70: 100%|██████████| 33/33 [00:03<00:00, 10.04it/s]\n",
      "Epoch 71: 100%|██████████| 33/33 [00:02<00:00, 12.58it/s]\n",
      "Epoch 72: 100%|██████████| 33/33 [00:05<00:00,  6.49it/s]\n",
      "Epoch 73: 100%|██████████| 33/33 [00:06<00:00,  5.06it/s]\n",
      "Epoch 74: 100%|██████████| 33/33 [00:06<00:00,  5.16it/s]\n",
      "Epoch 75: 100%|██████████| 33/33 [00:06<00:00,  5.14it/s]\n",
      "Epoch 76: 100%|██████████| 33/33 [00:06<00:00,  5.04it/s]\n",
      "Epoch 77: 100%|██████████| 33/33 [00:06<00:00,  5.18it/s]\n",
      "Epoch 78: 100%|██████████| 33/33 [00:06<00:00,  5.21it/s]\n",
      "Epoch 79: 100%|██████████| 33/33 [00:06<00:00,  5.04it/s]\n",
      "Epoch 80: 100%|██████████| 33/33 [00:06<00:00,  5.14it/s]\n",
      "Epoch 81: 100%|██████████| 33/33 [00:08<00:00,  4.08it/s]\n",
      "Epoch 82: 100%|██████████| 33/33 [00:14<00:00,  2.36it/s]\n",
      "Epoch 83: 100%|██████████| 33/33 [00:06<00:00,  5.50it/s]\n",
      "Epoch 84: 100%|██████████| 33/33 [00:06<00:00,  5.41it/s]\n",
      "Epoch 85: 100%|██████████| 33/33 [00:06<00:00,  5.23it/s]\n",
      "Epoch 86: 100%|██████████| 33/33 [00:06<00:00,  5.42it/s]\n",
      "Epoch 87: 100%|██████████| 33/33 [00:06<00:00,  5.49it/s]\n",
      "Epoch 88: 100%|██████████| 33/33 [00:06<00:00,  5.29it/s]\n",
      "Epoch 89: 100%|██████████| 33/33 [00:05<00:00,  5.58it/s]\n"
     ]
    }
   ],
   "source": [
    "validation_score, trainer_output, state_dict = trainer(\n",
    "    model, dataloaders, seed=42)"
   ]
  },
  {
   "cell_type": "code",
   "execution_count": 28,
   "metadata": {},
   "outputs": [
    {
     "data": {
      "text/plain": [
       "0.21406637"
      ]
     },
     "execution_count": 28,
     "metadata": {},
     "output_type": "execute_result"
    }
   ],
   "source": [
    "validation_score"
   ]
  },
  {
   "cell_type": "code",
   "execution_count": 29,
   "metadata": {
    "pycharm": {
     "name": "#%%\n"
    }
   },
   "outputs": [],
   "source": [
    "# torch.save(model.state_dict(), './model_checkpoints/sensorium_p_ln_model.pth')\n",
    "torch.save(model.state_dict(),\n",
    "           'notebooks/model_tutorial/model_checkpoints/IM_p_ln_model.pth')"
   ]
  },
  {
   "cell_type": "code",
   "execution_count": 30,
   "metadata": {
    "pycharm": {
     "name": "#%%\n"
    }
   },
   "outputs": [
    {
     "data": {
      "text/plain": [
       "<All keys matched successfully>"
      ]
     },
     "execution_count": 30,
     "metadata": {},
     "output_type": "execute_result"
    }
   ],
   "source": [
    "# model.load_state_dict(torch.load(\"./model_checkpoints/pretrained/sensorium_p_ln_model.pth\"));\n",
    "model.load_state_dict(torch.load(\n",
    "    \"notebooks/model_tutorial/model_checkpoints/IM_p_ln_model.pth\"))"
   ]
  },
  {
   "cell_type": "markdown",
   "metadata": {
    "pycharm": {
     "name": "#%% md\n"
    }
   },
   "source": [
    "---"
   ]
  }
 ],
 "metadata": {
  "kernelspec": {
   "display_name": "Python 3",
   "language": "python",
   "name": "python3"
  },
  "language_info": {
   "codemirror_mode": {
    "name": "ipython",
    "version": 3
   },
   "file_extension": ".py",
   "mimetype": "text/x-python",
   "name": "python",
   "nbconvert_exporter": "python",
   "pygments_lexer": "ipython3",
   "version": "3.8.19"
  }
 },
 "nbformat": 4,
 "nbformat_minor": 4
}
